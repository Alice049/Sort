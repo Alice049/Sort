{
  "nbformat": 4,
  "nbformat_minor": 0,
  "metadata": {
    "colab": {
      "provenance": [],
      "authorship_tag": "ABX9TyMFYH15PWKuxaJ4b5tdg9C9",
      "include_colab_link": true
    },
    "kernelspec": {
      "name": "python3",
      "display_name": "Python 3"
    },
    "language_info": {
      "name": "python"
    }
  },
  "cells": [
    {
      "cell_type": "markdown",
      "metadata": {
        "id": "view-in-github",
        "colab_type": "text"
      },
      "source": [
        "<a href=\"https://colab.research.google.com/github/Alice049/bubbie/blob/main/quickSort.ipynb\" target=\"_parent\"><img src=\"https://colab.research.google.com/assets/colab-badge.svg\" alt=\"Open In Colab\"/></a>"
      ]
    },
    {
      "cell_type": "code",
      "execution_count": 8,
      "metadata": {
        "colab": {
          "base_uri": "https://localhost:8080/"
        },
        "id": "SRZLB6Xk1BhU",
        "outputId": "f720c01e-0d72-4c48-8c1e-63e6d85a1566"
      },
      "outputs": [
        {
          "output_type": "stream",
          "name": "stdout",
          "text": [
            "\n",
            " Please enter number to sort(enter 0 when end):\n",
            "$ 1 number:65\n",
            "$ 2 number:74\n",
            "$ 3 number:18\n",
            "$ 4 number:32\n",
            "$ 5 number:99\n",
            "$ 6 number:30\n",
            "$ 7 number:9\n",
            "$ 8 number:35\n",
            "$ 9 number:50\n",
            "$10 number:63\n",
            "$11 number:29\n",
            "$12 number:77\n",
            "$13 number:0\n",
            "------------------------------------------------------------\n",
            "Sorting:   29  77  18  32  99  30   9  35  50  63  65  74\n",
            "Sorting:    9  63  18  32  99  30  29  35  50  77  65  74\n",
            "Sorting:    9  30  18  32  99  63  29  35  50  77  65  74\n",
            "Sorting:    9  18  30  63  99  32  29  35  50  77  65  74\n",
            "Sorting:    9  18  30  63  99  32  29  35  77  50  65  74\n",
            "Sorting:    9  18  30  29  99  32  63  35  77  50  65  74\n",
            "Sorting:    9  18  50  29  99  32  63  35  77  30  65  74\n",
            "Sorting:    9  18  35  29  77  32  63  50  99  30  65  74\n",
            "Sorting:    9  18  32  29  63  35  77  50  99  30  65  74\n",
            "Sorting:    9  18  29  32  63  35  50  77  99  30  65  74\n",
            "Sorting:    9  18  29  32  50  35  63  99  77  30  65  74\n",
            "Sorting:    9  18  29  32  65  35  63  99  77  30  50  74\n",
            "Sorting:    9  18  74  32  65  35  63  99  77  30  50  29\n",
            "Sorting:    9  18  63  32  65  35  74  77  99  30  50  29\n",
            "------------------------------------------------------------\n",
            " sorted data:91863326535747799305029"
          ]
        }
      ],
      "source": [
        "def quick_sort(data):\n",
        "  size=0\n",
        "  i=0\n",
        "  print('\\n Please enter number to sort(enter 0 when end):')\n",
        "  while True:\n",
        "    i +=1\n",
        "    data.append(int(input('$%2d number:' %(i))))\n",
        "    if data[size]==0:\n",
        "      break\n",
        "    size +=1\n",
        "  for i in range(60):\n",
        "    print('-',end='')\n",
        "  print()\n",
        "\n",
        "  sorting(data, 0,size-1,size)\n",
        "\n",
        "  for i in range(60):\n",
        "    print('-',end='')\n",
        "\n",
        "  print('\\n sorted data:',end='')\n",
        "  for i in range(size):\n",
        "    print(data[i],end='')\n",
        "\n",
        "def sorting(data,left,right,size):\n",
        "  if left < right:\n",
        "    lbase=left+1\n",
        "    while data[lbase]<data[left]:\n",
        "      if lbase+1> size:\n",
        "        break\n",
        "      lbase+=1\n",
        "    rbase=right\n",
        "    while data[rbase]< data[left]:\n",
        "      rbase -=1\n",
        "    while lbase<rbase:\n",
        "      data[lbase],data[rbase]=data[rbase],data[lbase]\n",
        "      lbase +=1\n",
        "      while data[lbase]<data[left]:\n",
        "        lbase +=1\n",
        "      rbase -=1\n",
        "      while data[rbase] >data[left]:\n",
        "        rbase -=1\n",
        "\n",
        "      data[left],data[rbase]=data[rbase],data[left]\n",
        "      print('Sorting: ',end='')\n",
        "      for i in range(size):\n",
        "        print('%4d'%(data[i]),end='')\n",
        "      print()\n",
        "\n",
        "      sorting(data,left,rbase-1,size)\n",
        "      sorting(data,rbase+1,right,size)\n",
        "\n",
        "def main():\n",
        "  data=[]\n",
        "  quick_sort(data)\n",
        "\n",
        "main()"
      ]
    }
  ]
}