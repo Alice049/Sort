{
  "nbformat": 4,
  "nbformat_minor": 0,
  "metadata": {
    "colab": {
      "provenance": [],
      "authorship_tag": "ABX9TyPSudSQiWrWzK96oxDZqVu0",
      "include_colab_link": true
    },
    "kernelspec": {
      "name": "python3",
      "display_name": "Python 3"
    },
    "language_info": {
      "name": "python"
    }
  },
  "cells": [
    {
      "cell_type": "markdown",
      "metadata": {
        "id": "view-in-github",
        "colab_type": "text"
      },
      "source": [
        "<a href=\"https://colab.research.google.com/github/Alice049/bubbie/blob/main/BinartTree_sorting.ipynb\" target=\"_parent\"><img src=\"https://colab.research.google.com/assets/colab-badge.svg\" alt=\"Open In Colab\"/></a>"
      ]
    },
    {
      "cell_type": "markdown",
      "source": [
        "## 二元樹排序\n",
        "二元樹排序（Binary tree sort）乃是將所有的資料建成一個二元搜尋樹，再利用中序追蹤，其步驟如下：\n",
        "1.將第一個資料放在樹根\n",
        "2.加入的資料皆與樹根相差比較，若比樹根大，則往右邊找一個適當的位置;反之，則往左邊找一個適當的位置。\n",
        "3.二元搜尋樹建立後，再利用中序追蹤，就可得到由小到大的排序資料"
      ],
      "metadata": {
        "id": "kb91AdNMUixA"
      }
    },
    {
      "cell_type": "code",
      "execution_count": 4,
      "metadata": {
        "colab": {
          "base_uri": "https://localhost:8080/"
        },
        "id": "LsUVLCgUOt9u",
        "outputId": "f44e2c2c-acd1-42c6-d409-be91c5f959fb"
      },
      "outputs": [
        {
          "output_type": "stream",
          "name": "stdout",
          "text": [
            "\n",
            "<<Binary sort>>\n",
            "Number:   18    2   20   34   12   32    6   16   25   10 \n",
            "------------------------------------------------------------\n",
            "Sorting:  18\n",
            "Sorting:   2  18\n",
            "Sorting:   2  18  20\n",
            "Sorting:   2  18  20  34\n",
            "Sorting:   2  12  18  20  34\n",
            "Sorting:   2  12  18  20  32  34\n",
            "Sorting:   2   6  12  18  20  32  34\n",
            "Sorting:   2   6  12  16  18  20  32  34\n",
            "Sorting:   2   6  12  16  18  20  25  32  34\n",
            "Sorting:   2   6  10  12  16  18  20  25  32  34\n",
            "------------------------------------------------------------\n",
            "sorted data:   2   6  10  12  16  18  20  25  32  34"
          ]
        }
      ],
      "source": [
        "class Node_type:\n",
        "  def __inti__(self):\n",
        "    self.num=0\n",
        "    self.lchild=None\n",
        "    self.rchild=None\n",
        "\n",
        "  root=None\n",
        "  tree=None\n",
        "  leaf=None\n",
        "\n",
        "def binaryTree_sort(data):\n",
        "    global root\n",
        "    global tree\n",
        "    global leaf\n",
        "\n",
        "    print('\\n<<Binary sort>>')\n",
        "    print('Number: ',end='')\n",
        "    for i in range(10):\n",
        "      print('%4d '%(data[i]),end= '')\n",
        "    print()\n",
        "    for i in range(60):\n",
        "      print('-',end='')\n",
        "\n",
        "    root=Node_type()\n",
        "    root.num=data[0]#樹根\n",
        "    root.lchild=None\n",
        "    root.rchild=None\n",
        "\n",
        "    print('\\nSorting:',end='')\n",
        "    output(root)\n",
        "\n",
        "    leaf=Node_type()\n",
        "    for i in range(1,10):#樹枝\n",
        "      leaf.num=data[i]\n",
        "      leaf.lchild=None\n",
        "      leaf.rchild=None\n",
        "      find(leaf.num,root)\n",
        "      if leaf.num >tree.num:#若比父節點大,則放在右子樹\n",
        "        tree.rchild=leaf\n",
        "      else:#否則，放在左子樹\n",
        "        tree.lchild=leaf\n",
        "\n",
        "      print('\\nSorting:',end='')\n",
        "      output(root)\n",
        "\n",
        "      leaf=Node_type()\n",
        "    print()\n",
        "\n",
        "    for i in range(60):\n",
        "      print('-',end='')\n",
        "    print('\\nsorted data:',end='')\n",
        "    output(root)\n",
        "def find(input,papa):\n",
        "  global tree\n",
        "\n",
        "  if input >papa.num and papa.rchild !=None:\n",
        "    find(input,papa.rchild)\n",
        "  elif input < papa.num and papa.lchild !=None:\n",
        "    find(input,papa.lchild)\n",
        "  else:\n",
        "    tree=papa\n",
        "def output(node):#中序追蹤將資料印出\n",
        "  if node !=None:\n",
        "    output(node.lchild)\n",
        "    print('%4d'%(node.num),end='')\n",
        "    output(node.rchild)\n",
        "\n",
        "def main():\n",
        "  data=[18,2,20,34,12,32,6,16,25,10]\n",
        "  binaryTree_sort(data)\n",
        "\n",
        "main()"
      ]
    }
  ]
}