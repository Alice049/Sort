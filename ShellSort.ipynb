{
  "nbformat": 4,
  "nbformat_minor": 0,
  "metadata": {
    "colab": {
      "provenance": [],
      "authorship_tag": "ABX9TyN+AFvcCaxkGBycZuVco8YC",
      "include_colab_link": true
    },
    "kernelspec": {
      "name": "python3",
      "display_name": "Python 3"
    },
    "language_info": {
      "name": "python"
    }
  },
  "cells": [
    {
      "cell_type": "markdown",
      "metadata": {
        "id": "view-in-github",
        "colab_type": "text"
      },
      "source": [
        "<a href=\"https://colab.research.google.com/github/Alice049/bubbie/blob/main/ShellSort.ipynb\" target=\"_parent\"><img src=\"https://colab.research.google.com/assets/colab-badge.svg\" alt=\"Open In Colab\"/></a>"
      ]
    },
    {
      "cell_type": "markdown",
      "source": [
        "## 謝爾排序\n",
        "\n",
        "謝爾排序的過程如下：假設串列有9筆資料\n",
        "1.先將所有的資料分成Y=9/2筆，即Y=4,Y為資料間隔數，其中1,5,9是第一部分;2,6是屬於第二部分;3,7是第四部分。\n",
        "2.每一循環資料間隔數是Y,是上一筆循環資料間隔數除以2,即Yi+1=Yi/2,最後一筆資料循環間隔數為1\n",
        "3.先比較每一部分的前兩個，如[1:5],[2,6],[3,7],[4,8]\n",
        "4.前兩項比較完成後，若有需要，再比較每一部分的第二個和第三個，看看是否要調換，記得還要和第一個比較。依此類推"
      ],
      "metadata": {
        "id": "7vr6RwY6MOUz"
      }
    },
    {
      "cell_type": "code",
      "execution_count": 7,
      "metadata": {
        "colab": {
          "base_uri": "https://localhost:8080/"
        },
        "id": "Jqg8gQKpHt3g",
        "outputId": "3e092f1c-b18d-429d-f084-31c63a1eecf6"
      },
      "outputs": [
        {
          "output_type": "stream",
          "name": "stdout",
          "text": [
            "\n",
            "<<Shell sort>>\n",
            "Numbers:  39  11  48   5  77  18  70  25  55 \n",
            "--------------------------------------------------\n",
            "Sorting:  39 11 48  5 77 18 70 25 55\n",
            "Sorting:  39  5 48 11 70 18 77 25 55\n",
            "Sorting:   5 11 18 25 39 48 70 77 55\n",
            "--------------------------------------------------\n",
            "sorted data  5 11 18 25 39 48 70 77 55"
          ]
        }
      ],
      "source": [
        "def shell_sort(data):\n",
        "  MAX=len(data)-1\n",
        "\n",
        "  incr=MAX//2\n",
        "  while incr>0:\n",
        "    for i in range(incr,MAX):\n",
        "      j=i-incr\n",
        "      while j >=0:\n",
        "        if data[j]>data[j+incr]:\n",
        "          data[j],data[j+incr]=data[j+incr],data[j]\n",
        "          j=j-incr\n",
        "        else:\n",
        "          j=-1\n",
        "    print('\\nSorting: ',end='')\n",
        "    for i in range(0,len(data)):\n",
        "      print('%3d'%(data[i]),end='')\n",
        "    incr=incr//2\n",
        "\n",
        "def main():\n",
        "  data=[39,11,48,5,77,18,70,25,55]\n",
        "\n",
        "  print('\\n<<Shell sort>>')\n",
        "  print('Numbers: ',end='')\n",
        "  for i in range(0,len(data)):\n",
        "    print('%3d '%(data[i]),end='')\n",
        "  print()\n",
        "\n",
        "  for k in range(50):\n",
        "    print('-',end='')\n",
        "\n",
        "  shell_sort(data)\n",
        "  print()\n",
        "\n",
        "  for k in range(50):\n",
        "    print('-',end='')\n",
        "\n",
        "  print('\\nsorted data',end='')\n",
        "  for i in range(0,len(data)):\n",
        "    print('%3d'%(data[i]),end='')\n",
        "\n",
        "main()"
      ]
    }
  ]
}