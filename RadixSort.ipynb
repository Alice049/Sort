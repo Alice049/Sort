{
  "nbformat": 4,
  "nbformat_minor": 0,
  "metadata": {
    "colab": {
      "provenance": [],
      "authorship_tag": "ABX9TyPJAj6Tfz0phij0MM7GKqXo",
      "include_colab_link": true
    },
    "kernelspec": {
      "name": "python3",
      "display_name": "Python 3"
    },
    "language_info": {
      "name": "python"
    }
  },
  "cells": [
    {
      "cell_type": "markdown",
      "metadata": {
        "id": "view-in-github",
        "colab_type": "text"
      },
      "source": [
        "<a href=\"https://colab.research.google.com/github/Alice049/bubbie/blob/main/RadixSort.ipynb\" target=\"_parent\"><img src=\"https://colab.research.google.com/assets/colab-badge.svg\" alt=\"Open In Colab\"/></a>"
      ]
    },
    {
      "cell_type": "markdown",
      "source": [
        "## 基數排序\n",
        "基數排序（radix sort）是依據每個紀錄的鍵值，將其劃分為若干單元，把相同的單元放置在同一個箱子。排序的過程可採用最低位數（LSD），或最高位數（MSD）。\n",
        "假設有n位數，使用LSD，則需要n次分配，若使用ＭＳＤ(即由左邊第一位開始)，則第一次分配後，資料已分為m堆，1<=m<=n，這時在每一堆的資料就可利用插入排序法來完成排序的工作。\n",
        "假設有一個檔案的紀錄，每筆資料的鍵值是由d個數字所組成，其中0<=x<r,\n",
        "因此，需要有r個箱子。又假設每一個紀錄均有一連結欄，每個箱子紀錄都連接再一起形成鏈結串列。對於任何一個箱子，分別表示到第i箱子的最後一筆紀錄和指標。"
      ],
      "metadata": {
        "id": "qBkv26GIVwHY"
      }
    },
    {
      "cell_type": "markdown",
      "source": [],
      "metadata": {
        "id": "OdOo3J1tY0ks"
      }
    },
    {
      "cell_type": "code",
      "execution_count": 2,
      "metadata": {
        "colab": {
          "base_uri": "https://localhost:8080/"
        },
        "id": "HNkuNYLnVtvo",
        "outputId": "557e0c2a-8309-43b6-c423-4834905c840c"
      },
      "outputs": [
        {
          "output_type": "stream",
          "name": "stdout",
          "text": [
            "\n",
            "<<Radix sort>>\n",
            "\n",
            "Number:   199  228  326  118  879  882   76   32  291   56\n",
            "----------------------------------------------------------------------\n",
            "Sorting:  291   882    32   326    76    56   228   118   199   879 \n",
            "Sorting:  118   228   326    32    56   879   879    76   882   291 \n",
            "Sorting:   76    32    56   118   291   228   291   326   879   882 \n",
            "----------------------------------------------------------------------\n",
            "sorted data:  882  228  326  118  879  882   76   32  291   56"
          ]
        }
      ],
      "source": [
        "def radix_sort(data,order):\n",
        "  n=1\n",
        "  k=0\n",
        "  temp=[[None]*10 for i in range(10)]\n",
        "  while n<=100:\n",
        "    for i in range(10):\n",
        "      lsd=(data[i]//n)%10\n",
        "      temp[lsd][order[lsd]]=data[i]#依餘數將資料分類\n",
        "      order[lsd]+=1\n",
        "\n",
        "    print('\\nSorting:',end='')\n",
        "    for i in range(10):\n",
        "      if order[i] !=0:\n",
        "        for j in range(order[i]):#依分類後的順序將資料重新排列\n",
        "          data[k]=temp[i][j]\n",
        "          print('%5d '%(data[k]),end='')\n",
        "      order[i]=0\n",
        "    n*=10\n",
        "    k=0\n",
        "\n",
        "def main():\n",
        "  data=[199,228,326,118,879,882,76,32,291,56]\n",
        "  order=[0]*10\n",
        "\n",
        "  print('\\n<<Radix sort>>')\n",
        "  print('\\nNumber: ',end='')\n",
        "  for i in range(10):\n",
        "    print('%5d'%(data[i]),end='')\n",
        "  print()\n",
        "\n",
        "  for i in range(70):\n",
        "    print('-',end='')\n",
        "\n",
        "  radix_sort(data,order)\n",
        "  print()\n",
        "\n",
        "  for i in range(70):\n",
        "    print('-',end='')\n",
        "\n",
        "  print('\\nsorted data:',end='')\n",
        "  for i in range(10):\n",
        "    print('%5d'%(data[i]),end='')\n",
        "\n",
        "main()"
      ]
    }
  ]
}